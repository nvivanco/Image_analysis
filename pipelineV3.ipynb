{
 "cells": [
  {
   "cell_type": "code",
   "execution_count": 1,
   "metadata": {},
   "outputs": [],
   "source": [
    "import matplotlib.pyplot as plt\n",
    "import seaborn as sns\n",
    "import os\n",
    "import matplotlib.patches as mpatches\n",
    "import pandas as pd\n",
    "import numpy as np\n",
    "import tifffile\n",
    "import pre_process_mm as pre\n",
    "import mm3_adapted_cell_segmentation as mm3seg\n",
    "import mm3_adapted_cell_tracking as mm3track\n",
    "import plot_cells\n",
    "import HF"
   ]
  },
  {
   "cell_type": "code",
   "execution_count": 3,
   "metadata": {},
   "outputs": [
    {
     "name": "stdout",
     "output_type": "stream",
     "text": [
      "path_selected\n",
      "/Users/aj0204/Documents/Covert_lab/operon project/DUMM_giTG064_Glucose_022625\n"
     ]
    }
   ],
   "source": [
    "# use this code block for when working with one timelapse.\n",
    "# will open up code to select for one directory \n",
    "folder_name = 'DUMM_giTG064_Glucose_022625'\n",
    "root_dir = HF.select_directory()\n",
    "drift_corrected_path = root_dir + '/hyperstacked/drift_corrected'\n"
   ]
  },
  {
   "cell_type": "code",
   "execution_count": null,
   "metadata": {},
   "outputs": [],
   "source": [
    "#this is the one that takes long and runs both drift correction \n",
    "# and hyperstacks tiffs into one tiff\n",
    "\n",
    "drift_corrected_path = pre.drift_correct(root_dir, 'DuMM', c=0)\n"
   ]
  },
  {
   "cell_type": "code",
   "execution_count": null,
   "metadata": {},
   "outputs": [],
   "source": [
    "#if you have the storage and want to run multiple experiments "
   ]
  }
 ],
 "metadata": {
  "kernelspec": {
   "display_name": "image_segmentation",
   "language": "python",
   "name": "python3"
  },
  "language_info": {
   "codemirror_mode": {
    "name": "ipython",
    "version": 3
   },
   "file_extension": ".py",
   "mimetype": "text/x-python",
   "name": "python",
   "nbconvert_exporter": "python",
   "pygments_lexer": "ipython3",
   "version": "3.9.6"
  }
 },
 "nbformat": 4,
 "nbformat_minor": 2
}
